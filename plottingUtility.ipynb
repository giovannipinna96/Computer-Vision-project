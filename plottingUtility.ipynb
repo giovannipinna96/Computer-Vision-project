{
 "cells": [
  {
   "cell_type": "markdown",
   "metadata": {},
   "source": [
    "# Plotting"
   ]
  },
  {
   "cell_type": "markdown",
   "metadata": {},
   "source": [
    "file where the functions to represent the graphs are defined"
   ]
  },
  {
   "cell_type": "code",
   "execution_count": 9,
   "metadata": {},
   "outputs": [],
   "source": [
    "import os\n",
    "import glob\n",
    "import cv2 as cv2\n",
    "import numpy as np\n",
    "import keras as ks\n",
    "import tensorflow as tf\n",
    "import seaborn as sn\n",
    "import numpy as np\n",
    "\n",
    "import matplotlib.pyplot as plt\n",
    "from sklearn.metrics import classification_report, confusion_matrix\n",
    "from tensorflow.keras.utils import plot_model"
   ]
  },
  {
   "cell_type": "code",
   "execution_count": 10,
   "metadata": {},
   "outputs": [],
   "source": [
    "def plotConfusionMatrix(cm, label, string, directory, title='Confusion Matrix'):\n",
    "    cm = tf.cast(cm, dtype=tf.float32)\n",
    "    cm = cm / tf.math.reduce_sum(cm, axis=1)[:, np.newaxis]\n",
    "    \n",
    "    plt.figure(figsize=(18, 13))\n",
    "    plt.title(title)\n",
    "    sn.heatmap(cm, annot=True, xticklabels=label, yticklabels=label)\n",
    "    plt.xlabel(\"Predicted\")\n",
    "    plt.ylabel(\"True\")\n",
    "    plt.savefig(directory + string + '.png')"
   ]
  },
  {
   "cell_type": "code",
   "execution_count": 11,
   "metadata": {},
   "outputs": [],
   "source": [
    "def validationLoss(history, folder, title=\"validation_loss\"):\n",
    "    plt.title(\"Validation Loss\")\n",
    "    plt.xlabel(\"Epochs\")\n",
    "    plt.ylabel(\"Val-Loss\")\n",
    "    plt.plot(history.history['val_loss'])\n",
    "    plt.grid()\n",
    "    plt.savefig(folder + \"/\" + title + \".png\")"
   ]
  },
  {
   "cell_type": "code",
   "execution_count": 12,
   "metadata": {},
   "outputs": [],
   "source": [
    "def validationAccuracy(history, folder, title=\"validation_acc\"):\n",
    "    plt.title(\"Validation Accuracy\")\n",
    "    plt.xlabel(\"Epochs\")\n",
    "    plt.ylabel(\"Accuracy\")\n",
    "    plt.plot(history.history['val_accuracy'])\n",
    "    plt.grid()\n",
    "    plt.savefig(folder + \"/\" + title + \".png\")"
   ]
  },
  {
   "cell_type": "code",
   "execution_count": 13,
   "metadata": {},
   "outputs": [],
   "source": [
    "def plottingAccuracy(history, folder, title=\"accuracy\"):\n",
    "    plt.title(\"Accuracy\")\n",
    "    plt.xlabel(\"Epochs\")\n",
    "    plt.ylabel(\"Accuracy\")\n",
    "    plt.plot(history.history['accuracy'])\n",
    "    plt.grid()\n",
    "    plt.savefig(folder + \"/\" + title + \".png\")"
   ]
  },
  {
   "cell_type": "code",
   "execution_count": 14,
   "metadata": {},
   "outputs": [],
   "source": [
    "def plottingLoss(history, folder, title=\"loss\"):\n",
    "    plt.title(\"Loss\")\n",
    "    plt.xlabel(\"Epochs\")\n",
    "    plt.ylabel(\"Accuracy\")\n",
    "    plt.plot(history.history['loss'])\n",
    "    plt.grid()\n",
    "    plt.savefig(folder + \"/\" + title + \".png\")"
   ]
  },
  {
   "cell_type": "code",
   "execution_count": 15,
   "metadata": {},
   "outputs": [],
   "source": [
    "def plotModel(model, folder, name): #doesn't work, idk why\n",
    "    plot_model(model, to_file=folder+'/'+name+'.png', show_shapes=True, show_layer_names=True)"
   ]
  },
  {
   "cell_type": "code",
   "execution_count": null,
   "metadata": {},
   "outputs": [],
   "source": []
  }
 ],
 "metadata": {
  "kernelspec": {
   "display_name": "Python 3",
   "language": "python",
   "name": "python3"
  },
  "language_info": {
   "codemirror_mode": {
    "name": "ipython",
    "version": 3
   },
   "file_extension": ".py",
   "mimetype": "text/x-python",
   "name": "python",
   "nbconvert_exporter": "python",
   "pygments_lexer": "ipython3",
   "version": "3.8.8"
  }
 },
 "nbformat": 4,
 "nbformat_minor": 4
}
