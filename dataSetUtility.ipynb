{
 "cells": [
  {
   "cell_type": "markdown",
   "metadata": {},
   "source": [
    "# Dateset utils function"
   ]
  },
  {
   "cell_type": "code",
   "execution_count": 1,
   "metadata": {},
   "outputs": [],
   "source": [
    "import matplotlib.pyplot as plt\n",
    "from sklearn.metrics import classification_report, confusion_matrix\n",
    "import tensorflow as tf\n",
    "import seaborn as sn\n",
    "import numpy as np\n",
    "from scipy import ndimage\n",
    "\n",
    "import random\n",
    "import PIL\n",
    "import os\n",
    "import cv2 as cv2\n",
    "import itertools\n",
    "import glob"
   ]
  },
  {
   "cell_type": "code",
   "execution_count": 2,
   "metadata": {},
   "outputs": [],
   "source": [
    "def loadImages(path, labels, dimension=64): #functio to retrive the sets\n",
    "    y = []\n",
    "    x = []\n",
    "    \n",
    "    for index,name in enumerate(labels):\n",
    "        s = path+'/'+name+'/{}'\n",
    "        temp = [s.format(i) for i in os.listdir(path+'/'+name+'/')]\n",
    "        for image in temp:\n",
    "            x.append(cv2.resize(cv2.imread(image,cv2.IMREAD_GRAYSCALE),(dimension,dimension),interpolation=cv2.INTER_CUBIC))\n",
    "            y.append(index)\n",
    "             \n",
    "    x = np.asarray([np.reshape(im, (dimension, dimension, 1)) for im in x])\n",
    "    x = x/255 #perchè è scala di grigi? per normalizzare cosa?\n",
    "    y = np.asarray(y)\n",
    "    return x, y"
   ]
  },
  {
   "cell_type": "code",
   "execution_count": 3,
   "metadata": {},
   "outputs": [],
   "source": [
    "def dataAugmentation(path, labels, dimension=64):\n",
    "    x = [] #New ImageSet\n",
    "    y = [] #New Label\n",
    "    \n",
    "    for index,name in enumerate(labels):\n",
    "        s = path+'/'+name+'/{}'\n",
    "        temp = [s.format(i) for i in os.listdir(path+'/'+name+'/')]\n",
    "        for image in temp:\n",
    "            tmp = cv2.resize(cv2.imread(image,cv2.IMREAD_GRAYSCALE),(dimension,dimension),interpolation=cv2.INTER_CUBIC)\n",
    "            x.append(tmp)\n",
    "            x.append(cv2.flip(tmp,1))\n",
    "            y.append(index)\n",
    "            y.append(index)\n",
    "        \n",
    "    x = np.asarray([np.reshape(im, (64, 64, 1)) for im in x])\n",
    "    x=x/255\n",
    "    y = np.asarray(y)\n",
    "    return x,y"
   ]
  },
  {
   "cell_type": "code",
   "execution_count": 4,
   "metadata": {},
   "outputs": [],
   "source": [
    "def predictClass(prediction):\n",
    "    y = [] \n",
    "    for x in prediction: \n",
    "        y.append(np.argmax(x))\n",
    "    return y"
   ]
  },
  {
   "cell_type": "code",
   "execution_count": 5,
   "metadata": {},
   "outputs": [],
   "source": [
    "def get_random_crop(img, width, height, dim=64):\n",
    "    assert img.shape[0] >= height\n",
    "    assert img.shape[1] >= width\n",
    "    x = random.randint(0, img.shape[1] - width)\n",
    "    y = random.randint(0, img.shape[0] - height)\n",
    "    img = img[y:y+height, x:x+width]\n",
    "    resImg = cv2.resize(img, (dim,dim), interpolation=cv2.INTER_CUBIC)\n",
    "    return resImg"
   ]
  },
  {
   "cell_type": "code",
   "execution_count": 6,
   "metadata": {},
   "outputs": [],
   "source": [
    "import math\n",
    "import copy\n",
    "\n",
    "def warpAffine(src, M, dsize, from_bounding_box_only=False):\n",
    "    \"\"\"\n",
    "    Applies cv2 warpAffine, marking transparency if bounding box only\n",
    "    The last of the 4 channels is merely a marker. It does not specify opacity in the usual way.\n",
    "    \"\"\"\n",
    "    return cv2.warpAffine(src, M, dsize)\n",
    "\n",
    "def rotate_image(image, dim=64):\n",
    "    \"\"\"Rotate the image counterclockwise.\n",
    "    Rotate the image such that the rotated image is enclosed inside the\n",
    "    tightest rectangle. The area not occupied by the pixels of the original\n",
    "    image is colored black.\n",
    "    Parameters\n",
    "    ----------\n",
    "    image : numpy.ndarray\n",
    "        numpy image\n",
    "    angle : float\n",
    "        angle by which the image is to be rotated. Positive angle is\n",
    "        counterclockwise.\n",
    "    Returns\n",
    "    -------\n",
    "    numpy.ndarray\n",
    "        Rotated Image\n",
    "    \"\"\"\n",
    "    angle = random.randint(0, 360)\n",
    "    # get dims, find center\n",
    "    (h, w) = image.shape[:2]\n",
    "    (cX, cY) = (w // 2, h // 2)\n",
    "\n",
    "    # grab the rotation matrix (applying the negative of the\n",
    "    # angle to rotate clockwise), then grab the sine and cosine\n",
    "    # (i.e., the rotation components of the matrix)\n",
    "    M = cv2.getRotationMatrix2D((cX, cY), angle, 1.0)\n",
    "    cos = np.abs(M[0, 0])\n",
    "    sin = np.abs(M[0, 1])\n",
    "\n",
    "    # compute the new bounding dimensions of the image\n",
    "    nW = int((h * sin) + (w * cos))\n",
    "    nH = int((h * cos) + (w * sin))\n",
    "\n",
    "    # adjust the rotation matrix to take into account translation\n",
    "    M[0, 2] += (nW / 2) - cX\n",
    "    M[1, 2] += (nH / 2) - cY\n",
    "\n",
    "    # perform the actual rotation and return the image\n",
    "    image = warpAffine(image, M, (nW, nH), False)\n",
    "\n",
    "    resImg = cv2.resize(image, (dim,dim), interpolation=cv2.INTER_CUBIC)\n",
    "\n",
    "    return resImg"
   ]
  },
  {
   "cell_type": "code",
   "execution_count": 10,
   "metadata": {},
   "outputs": [],
   "source": [
    "def dataAugmentationWithCropRot(path, labels, dimension=64, d=1):\n",
    "    x = [] #New ImageSet\n",
    "    y = [] #New Label\n",
    "    \n",
    "    for index,name in enumerate(labels):\n",
    "        s = path+'/'+name+'/{}'\n",
    "        temp = [s.format(i) for i in os.listdir(path+'/'+name+'/')]\n",
    "        for image in temp:\n",
    "            tmp = cv2.resize(cv2.imread(image,cv2.IMREAD_GRAYSCALE),(dimension,dimension),interpolation=cv2.INTER_CUBIC)\n",
    "            x.append(tmp)\n",
    "            x.append(cv2.flip(tmp,1))\n",
    "            x.append(get_random_crop(tmp, dimension-24, dimension-24, dimension))\n",
    "            x.append(rotate_image(tmp, dimension))\n",
    "            y.append(index)\n",
    "            y.append(index)\n",
    "            y.append(index)\n",
    "            y.append(index)\n",
    "        \n",
    "    x = np.asarray([np.reshape(im, (dimension, dimension, d)) for im in x])\n",
    "    x=x/255\n",
    "    y = np.asarray(y)\n",
    "    return x,y"
   ]
  }
 ],
 "metadata": {
  "kernelspec": {
   "display_name": "Python 3",
   "language": "python",
   "name": "python3"
  },
  "language_info": {
   "codemirror_mode": {
    "name": "ipython",
    "version": 3
   },
   "file_extension": ".py",
   "mimetype": "text/x-python",
   "name": "python",
   "nbconvert_exporter": "python",
   "pygments_lexer": "ipython3",
   "version": "3.8.8"
  }
 },
 "nbformat": 4,
 "nbformat_minor": 4
}
